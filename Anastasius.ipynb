{
 "cells": [
  {
   "cell_type": "markdown",
   "metadata": {
    "deletable": true,
    "editable": true
   },
   "source": [
    "# 🤴Anastasius"
   ]
  },
  {
   "cell_type": "code",
   "execution_count": 1,
   "metadata": {
    "cellView": null,
    "collapsed": false,
    "deletable": true,
    "editable": true,
    "executionInfo": null
   },
   "outputs": [
    {
     "name": "stderr",
     "output_type": "stream",
     "text": [
      "Using TensorFlow backend.\n"
     ]
    }
   ],
   "source": [
    "from keras.models import Sequential\n",
    "from keras.models import load_model\n",
    "from keras.layers import Dense, Activation\n",
    "from keras.layers import LSTM\n",
    "from keras.optimizers import RMSprop\n",
    "from keras.utils.data_utils import get_file\n",
    "from keras.callbacks import ModelCheckpoint\n",
    "from keras.preprocessing import text as Text\n",
    "from keras.layers import Dropout\n",
    "\n",
    "import numpy as np\n",
    "import random\n",
    "import sys\n",
    "import math\n",
    "import os\n",
    "import pandas as pd\n",
    "import h5py\n",
    "import time"
   ]
  },
  {
   "cell_type": "markdown",
   "metadata": {
    "deletable": true,
    "editable": true
   },
   "source": [
    "#  Declare  text source and constants\n",
    "It is important to not read the entire file into memory.\n",
    "\n",
    "The file is far too large to keep in memory.\n",
    "\n",
    "Instead we read portions into memory, vectorize it, pass\n",
    "that data into the lstm, and repeat until we process the entire file."
   ]
  },
  {
   "cell_type": "code",
   "execution_count": 2,
   "metadata": {
    "cellView": null,
    "collapsed": false,
    "deletable": true,
    "editable": true,
    "executionInfo": null
   },
   "outputs": [],
   "source": [
    "# Input sources\n",
    "data_source = 'wikitext-103-raw/wiki.test.vector'\n",
    "vocab_path = 'wikitext-103-raw/wiki.test.vocab'\n",
    "decoder_path = 'wikitext-103-raw/wiki.test.decoder.npy'\n",
    "data_len_path = 'wikitext-103-raw/wiki.test.vector.len'\n",
    "\n",
    "\n",
    "# How many rows to read in from the csv\n",
    "chunk_size = 100000\n",
    "\n",
    "# How many times to run the training\n",
    "numRuns = 10"
   ]
  },
  {
   "cell_type": "markdown",
   "metadata": {
    "deletable": true,
    "editable": true
   },
   "source": [
    "# Load Processed data\n",
    "We need to know all the possible characters in the file. Each of the characters is a class that the network can predict. We find $\\sum$ before doing any heavy operations"
   ]
  },
  {
   "cell_type": "code",
   "execution_count": 3,
   "metadata": {
    "collapsed": false,
    "deletable": true,
    "editable": true
   },
   "outputs": [
    {
     "name": "stdout",
     "output_type": "stream",
     "text": [
      "VOCAB:\n",
      "['\\n', ' ', '!', '\"', '#', '$', '%', '&', \"'\", '(', ')', '*', '+', ',', '-', '.', '/', '0', '1', '2', '3', '4', '5', '6', '7', '8', '9', ':', ';', '<', '=', '>', '?', 'A', 'B', 'C', 'D', 'E', 'F', 'G', 'H', 'I', 'J', 'K', 'L', 'M', 'N', 'O', 'P', 'Q', 'R', 'S', 'T', 'U', 'V', 'W', 'X', 'Y', 'Z', '[', '\\\\', ']', '^', '_', '`', 'a', 'b', 'c', 'd', 'e', 'f', 'g', 'h', 'i', 'j', 'k', 'l', 'm', 'n', 'o', 'p', 'q', 'r', 's', 't', 'u', 'v', 'w', 'x', 'y', 'z', '{', '|', '}', '~']\n",
      "\n",
      "DECODER:\n",
      "{0: 'Z', 1: '\\n', 2: 'g', 3: '7', 4: 'L', 5: '|', 6: 'i', 7: '&', 8: 'f', 9: 'U', 10: 'C', 11: 'q', 12: 'c', 13: '+', 14: '-', 15: 'o', 16: '5', 17: 'V', 18: 'e', 19: ')', 20: '4', 21: ';', 22: 'Y', 23: '1', 24: '`', 25: 'z', 26: '[', 27: 't', 28: '(', 29: '!', 30: 's', 31: 'W', 32: '<', 33: '^', 34: 'G', 35: '}', 36: ' ', 37: '8', 38: 'N', 39: '_', 40: 'p', 41: \"'\", 42: 'b', 43: 'P', 44: 'B', 45: 'a', 46: '.', 47: '/', 48: 'm', 49: 'H', 50: 'u', 51: '~', 52: 'O', 53: 'T', 54: 'J', 55: '{', 56: 'x', 57: '3', 58: '9', 59: ':', 60: 'F', 61: '2', 62: ']', 63: '0', 64: 'j', 65: 'K', 66: '?', 67: 'X', 68: '=', 69: 'Q', 70: 'E', 71: 'M', 72: 'v', 73: '6', 74: '$', 75: 'd', 76: 'h', 77: '%', 78: 'R', 79: '\\\\', 80: 'n', 81: 'r', 82: '#', 83: 'y', 84: '>', 85: 'l', 86: ',', 87: 'S', 88: 'k', 89: 'w', 90: '\"', 91: 'I', 92: '*', 93: 'D', 94: 'A'}\n",
      "\n",
      "ENCODER:\n",
      "{'m': 48, '/': 47, 'b': 42, '.': 46, 'G': 34, 'f': 8, '>': 84, \"'\": 41, 'A': 94, '?': 66, 'L': 4, '<': 32, 'q': 11, ')': 19, 'y': 83, '|': 5, 'Q': 69, 'I': 91, ' ': 36, 'x': 56, ']': 62, '+': 13, '#': 82, 'V': 17, 'e': 18, 'Y': 22, '&': 7, '=': 68, 'E': 70, '7': 3, 's': 30, '5': 16, 'M': 71, 'X': 67, '0': 63, 'H': 49, 'a': 45, 'W': 31, 'g': 2, 'r': 81, '{': 55, '\"': 90, '\\\\': 79, 'n': 80, 'R': 78, '3': 57, 'd': 75, '^': 33, 'T': 53, 't': 27, ';': 21, 'j': 64, '*': 92, 'k': 88, 'l': 85, '\\n': 1, '!': 29, 'v': 72, '(': 28, 'U': 9, 'N': 38, '2': 61, '-': 14, 'K': 65, 'p': 40, 'w': 89, 'B': 44, '9': 58, 'O': 52, 'D': 93, '8': 37, 'u': 50, '1': 23, '$': 74, 'C': 10, '~': 51, '%': 77, '}': 35, 'F': 60, 'z': 25, '_': 39, 'o': 15, 'Z': 0, ',': 86, 'h': 76, ':': 59, 'c': 12, 'S': 87, 'P': 43, '[': 26, '6': 73, 'J': 54, 'i': 6, '`': 24, '4': 20}\n"
     ]
    }
   ],
   "source": [
    "# Load Vocab\n",
    "with open(vocab_path,\"r\") as file:\n",
    "    vocab = sorted(list(file.read()))\n",
    "\n",
    "# Load Decoder\n",
    "decoder = np.load(decoder_path).item()\n",
    "\n",
    "# Build Encoder\n",
    "encoder = dict((value,key) for key,value in decoder.items())\n",
    "\n",
    "\n",
    "# Load CSV Row count\n",
    "with open(data_len_path,\"r\") as file:\n",
    "    data_row_count = int(file.read())\n",
    "    \n",
    "print(\"VOCAB:\")\n",
    "print(vocab)\n",
    "\n",
    "print(\"\\nDECODER:\")\n",
    "print(decoder)\n",
    "\n",
    "print(\"\\nENCODER:\")\n",
    "print(encoder)"
   ]
  },
  {
   "cell_type": "markdown",
   "metadata": {
    "deletable": true,
    "editable": true
   },
   "source": [
    "# One hot encode vocab\n",
    "Passing in raw numbers into an LSTM is apparently a bad idea. We should be passing in one hot encoded values because it does not introduce 'order' or 'weight' for each letter that we don't want. "
   ]
  },
  {
   "cell_type": "code",
   "execution_count": 4,
   "metadata": {
    "collapsed": false,
    "deletable": true,
    "editable": true
   },
   "outputs": [
    {
     "name": "stdout",
     "output_type": "stream",
     "text": [
      "[[ True False False ..., False False False]\n",
      " [False  True False ..., False False False]\n",
      " [False False  True ..., False False False]\n",
      " ..., \n",
      " [False False False ...,  True False False]\n",
      " [False False False ..., False  True False]\n",
      " [False False False ..., False False  True]]\n"
     ]
    }
   ],
   "source": [
    "# Creates one hot encoding from 0.... vocab length\n",
    "onehot = np.eye(len(vocab),dtype=bool)\n",
    "print(onehot)"
   ]
  },
  {
   "cell_type": "markdown",
   "metadata": {
    "deletable": true,
    "editable": true
   },
   "source": [
    "# Construct LSTM\n"
   ]
  },
  {
   "cell_type": "code",
   "execution_count": null,
   "metadata": {
    "collapsed": false,
    "deletable": true,
    "editable": true
   },
   "outputs": [
    {
     "name": "stdout",
     "output_type": "stream",
     "text": [
      "Using saved model\n"
     ]
    }
   ],
   "source": [
    "# X Dimension = (Total sentences) x (Sentence Length) x (Character Vector dimension\n",
    "try:\n",
    "    model = load_model(\"ckpt/model.h5py\")\n",
    "    print(\"Using saved model\")\n",
    "except(OSError):\n",
    "    layerSize = 128\n",
    "    input_shape = (50, len(vocab))\n",
    "\n",
    "    model = Sequential()\n",
    "#    model.add(LSTM(256, input_shape=input_shape, return_sequences=True))\n",
    "#    model.add(Dropout(0.05))\n",
    "#    model.add(LSTM(256))\n",
    "#    model.add(Dropout(0.05))\n",
    "#   model.add(Dense(len(vocab), activation='softmax'))\n",
    "    \n",
    "    model.add(LSTM(layerSize, input_shape=input_shape, stateful = True))\n",
    "    model.add(Dense(layerSize))\n",
    "    model.add(Activation('relu'))\n",
    "    model.add(Dense(len(vocab)))\n",
    "    model.add(Activation('softmax'))\n",
    "    optimizer = RMSprop(lr=0.001)\n",
    "    model.compile(loss='categorical_crossentropy', optimizer=optimizer)\n",
    "    \n",
    "    print(\"Using new model\")\n",
    "    print(model.summary())\n"
   ]
  },
  {
   "cell_type": "markdown",
   "metadata": {
    "collapsed": false,
    "deletable": true,
    "editable": true
   },
   "source": [
    "# Train LSTM\n",
    "We read in slices from the file, vectorize the slice, form our training set, and pass this set into our LSTM"
   ]
  },
  {
   "cell_type": "code",
   "execution_count": null,
   "metadata": {
    "collapsed": false,
    "deletable": true,
    "editable": true,
    "scrolled": false
   },
   "outputs": [
    {
     "name": "stdout",
     "output_type": "stream",
     "text": [
      "Processing chunk 1  of  20\n",
      "Training Model on chunk 1  of  20\n",
      "Epoch 1/5\n",
      "  1408/100000 [..............................] - ETA: 1564s - loss: 6.3735"
     ]
    }
   ],
   "source": [
    "total_chunks = math.ceil(data_row_count / chunk_size)\n",
    "chunk_processed = 0\n",
    "\n",
    "# Saves entire model, tracks loss, save after each epoc \n",
    "checkpointer = ModelCheckpoint(\n",
    "    filepath=\"ckpt/model.h5py\",\n",
    "    verbose=1,\n",
    "    save_best_only=True,\n",
    "    save_weights_only=False,\n",
    "    monitor='loss',\n",
    "    mode='auto',\n",
    "    period=1)\n",
    "\n",
    "callbacks = [checkpointer]\n",
    "\n",
    "maxValue = len(vocab) + 1\n",
    "\n",
    "\n",
    "# Reads in chunk_size amount of rows from csv\n",
    "for file_epocs in range(numRuns):\n",
    "    for chunk in pd.read_csv(data_source, chunksize=chunk_size, sep=';', dtype={'Y':np.int8}):\n",
    "        # Get input vectors ( Convert X to numpy array )\n",
    "        print(\"Processing chunk\", chunk_processed + 1,\" of \", total_chunks * numRuns)\n",
    "        rawX = chunk['X'].map(lambda x: np.fromstring(x, dtype=np.int8, sep=\" \")).values\n",
    "        rawY = chunk['Y'].values\n",
    "        \n",
    "        X = np.zeros((len(rawX), 50, len(vocab)))\n",
    "        Y = np.zeros((len(rawX), len(vocab)))\n",
    "        \n",
    "        for i, section in enumerate(rawX):\n",
    "            for j, char in enumerate(section):\n",
    "                X[i, j, char] = 1\n",
    "            Y[i, rawY[i]] = 1\n",
    "        \n",
    "        # Train model on X and Y\n",
    "        print(\"Training Model on chunk\", chunk_processed + 1,\" of \", total_chunks * numRuns)\n",
    "        model.fit(X, Y, batch_size=32, epochs=5, verbose=1, callbacks=callbacks)\n",
    "        print(\"\\n\")\n",
    "        chunk_processed += 1\n",
    "\n",
    "\n",
    "print(\"Model Training Completed\")\n",
    "\n"
   ]
  },
  {
   "cell_type": "markdown",
   "metadata": {
    "deletable": true,
    "editable": true
   },
   "source": [
    "# Test Model"
   ]
  },
  {
   "cell_type": "code",
   "execution_count": null,
   "metadata": {
    "collapsed": true,
    "deletable": true,
    "editable": true
   },
   "outputs": [],
   "source": [
    "def sample(preds, temperature=1.0):\n",
    "\n",
    "    # helper function to sample an index from a probability array\n",
    "\n",
    "    preds = np.asarray(preds).astype('float64')\n",
    "\n",
    "    preds = np.log(preds) / temperature\n",
    "\n",
    "    exp_preds = np.exp(preds)\n",
    "\n",
    "    preds = exp_preds / np.sum(exp_preds)\n",
    "\n",
    "    probas = np.random.multinomial(1, preds, 1)\n",
    "\n",
    "    return np.argmax(probas)"
   ]
  },
  {
   "cell_type": "code",
   "execution_count": null,
   "metadata": {
    "collapsed": false,
    "deletable": true,
    "editable": true
   },
   "outputs": [],
   "source": [
    "sentence_raw = \"Hello, this text needs to be at MIN 50 characters HELLO.\"\n",
    "\n",
    "# too lazy to figue our the real way to do this\n",
    "sentence = [encoder[letter] for letter in sentence_raw]\n",
    "\n",
    "x = np.zeros((1,50, len(vocab)))\n",
    "offset = 0\n",
    "print(sentence_raw,end='')\n",
    "for j in range(0,500):\n",
    "    for i,letter in enumerate(sentence[offset:offset+50]):\n",
    "        x[0,i] = onehot[letter]\n",
    "\n",
    "    preds = model.predict(x, verbose=0)[0]\n",
    "    predicted_index = sample(preds, 0.2)\n",
    "    sentence.append(predicted_index)\n",
    "    offset+=1\n",
    "    print(decoder[predicted_index], end=\"\")\n"
   ]
  },
  {
   "cell_type": "code",
   "execution_count": null,
   "metadata": {
    "collapsed": true,
    "deletable": true,
    "editable": true
   },
   "outputs": [],
   "source": []
  }
 ],
 "metadata": {
  "colabVersion": "0.1",
  "kernelspec": {
   "display_name": "Python 3",
   "language": "python",
   "name": "python3"
  },
  "language_info": {
   "codemirror_mode": {
    "name": "ipython",
    "version": 3
   },
   "file_extension": ".py",
   "mimetype": "text/x-python",
   "name": "python",
   "nbconvert_exporter": "python",
   "pygments_lexer": "ipython3",
   "version": "3.5.2"
  }
 },
 "nbformat": 4,
 "nbformat_minor": 0
}
