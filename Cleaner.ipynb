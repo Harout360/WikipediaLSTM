{
 "cells": [
  {
   "cell_type": "markdown",
   "metadata": {},
   "source": [
    "# Import"
   ]
  },
  {
   "cell_type": "code",
   "execution_count": 1,
   "metadata": {
    "collapsed": true
   },
   "outputs": [],
   "source": [
    "import string\n",
    "import sys\n",
    "import numpy as np"
   ]
  },
  {
   "cell_type": "markdown",
   "metadata": {},
   "source": [
    "# File Generator\n",
    "Iterators over file sequenially. Only loads fixed sized amounts into memory"
   ]
  },
  {
   "cell_type": "code",
   "execution_count": 2,
   "metadata": {
    "collapsed": true
   },
   "outputs": [],
   "source": [
    "def fileIter(source, valid_letters, encoding, num_chars):\n",
    "    with open(source, encoding='utf8') as file:\n",
    "        while True:\n",
    "            chunk = file.read(num_chars)\n",
    "            if chunk:\n",
    "                yield chunk\n",
    "            else:\n",
    "                return"
   ]
  },
  {
   "cell_type": "markdown",
   "metadata": {},
   "source": [
    "# Set Program Constants"
   ]
  },
  {
   "cell_type": "code",
   "execution_count": 3,
   "metadata": {
    "collapsed": true
   },
   "outputs": [],
   "source": [
    "# Input/Output files\n",
    "input_path   = 'wikitext-103-raw/wiki.test.raw'\n",
    "output_path  = 'wikitext-103-raw/wiki.test.clean'\n",
    "\n",
    "# How many characters per line; For output file.\n",
    "# We read a large chunk of sentences from file, chunk should be as large as\n",
    "# possible. Too small and we waste time doing IO, too large and we waste time\n",
    "# writing page files.\n",
    "cleaning_chunks = 100000"
   ]
  },
  {
   "cell_type": "markdown",
   "metadata": {},
   "source": [
    "# Only include printable letters"
   ]
  },
  {
   "cell_type": "code",
   "execution_count": 4,
   "metadata": {
    "collapsed": false
   },
   "outputs": [
    {
     "name": "stdout",
     "output_type": "stream",
     "text": [
      "Dimension of possible letters:  95 \n",
      "\n",
      "{'6', 'n', '9', 'N', 'u', 'J', 'o', 'S', '*', 'Z', '.', 'L', 'H', '}', 'M', '(', 'A', 'W', '~', 'T', '[', ':', 'x', '5', '>', 'd', 'C', ']', '+', '=', ';', 'G', 'c', '<', '/', 'y', '\\n', 'w', 'm', '#', 'F', 'q', '-', '&', '{', 'b', '3', '$', 'r', 'Y', ' ', 'Q', 'k', '1', '4', '7', 'l', 'g', '_', 'X', 'p', 'U', 'E', '^', 'I', 'v', 'O', 'i', 'P', '?', 'j', 's', 'f', \"'\", 'e', '2', '|', '%', '\\\\', 'h', 't', 'V', '!', 'z', 'R', 'K', 'D', ',', '0', 'B', '\"', '8', ')', 'a', '`'}\n"
     ]
    }
   ],
   "source": [
    "valid_letters = set(string.printable)\n",
    "ignore_letters = set(['\\r','@','\\x0c','\\t','\\x0b'])\n",
    "valid_letters.difference_update(ignore_letters)\n",
    "print(\"Dimension of possible letters: \", len(valid_letters),'\\n')\n",
    "print(valid_letters)"
   ]
  },
  {
   "cell_type": "code",
   "execution_count": 5,
   "metadata": {
    "collapsed": true
   },
   "outputs": [],
   "source": [
    "# Enocder maps a letter -> integer\n",
    "encoder = dict((letter,position) for position, letter in enumerate(valid_letters))"
   ]
  },
  {
   "cell_type": "markdown",
   "metadata": {},
   "source": [
    "# Convert Input by chunks"
   ]
  },
  {
   "cell_type": "code",
   "execution_count": 6,
   "metadata": {
    "collapsed": false
   },
   "outputs": [
    {
     "name": "stdout",
     "output_type": "stream",
     "text": [
      "finished removing unneeded characters\n"
     ]
    }
   ],
   "source": [
    "# Get iterator over file\n",
    "file_iter = fileIter(input_path, encoding='utf8',valid_letters=valid_letters, num_chars=cleaning_chunks)\n",
    "out = open(output_path,'w')\n",
    "\n",
    "i = 1\n",
    "ckpt = 500\n",
    "\n",
    "# Write data csv formatted\n",
    "for chunk in file_iter:\n",
    "    # Map letters to integers\n",
    "    chunk = list(filter(lambda x: x in valid_letters, chunk))\n",
    "    out.write(\"\".join(chunk))\n",
    "    if i % ckpt == 0:\n",
    "        print(i)\n",
    "    i += 1\n",
    "    \n",
    "print(\"finished removing unneeded characters\")\n",
    "out.close()    "
   ]
  }
 ],
 "metadata": {
  "kernelspec": {
   "display_name": "Python 3",
   "language": "python",
   "name": "python3"
  },
  "language_info": {
   "codemirror_mode": {
    "name": "ipython",
    "version": 3
   },
   "file_extension": ".py",
   "mimetype": "text/x-python",
   "name": "python",
   "nbconvert_exporter": "python",
   "pygments_lexer": "ipython3",
   "version": "3.6.0"
  }
 },
 "nbformat": 4,
 "nbformat_minor": 2
}
