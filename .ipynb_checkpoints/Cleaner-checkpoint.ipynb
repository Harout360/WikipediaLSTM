{
 "cells": [
  {
   "cell_type": "markdown",
   "metadata": {
    "deletable": true,
    "editable": true
   },
   "source": [
    "# Import"
   ]
  },
  {
   "cell_type": "code",
   "execution_count": 1,
   "metadata": {
    "collapsed": true,
    "deletable": true,
    "editable": true
   },
   "outputs": [],
   "source": [
    "import string\n",
    "import sys\n",
    "import numpy as np"
   ]
  },
  {
   "cell_type": "markdown",
   "metadata": {
    "deletable": true,
    "editable": true
   },
   "source": [
    "# File Generator\n",
    "Iterators over file sequenially. Only loads fixed sized amounts into memory"
   ]
  },
  {
   "cell_type": "code",
   "execution_count": 2,
   "metadata": {
    "collapsed": true,
    "deletable": true,
    "editable": true
   },
   "outputs": [],
   "source": [
    "def fileIter(source, valid_letters, encoding, num_chars):\n",
    "    with open(source, encoding='utf8') as file:\n",
    "        while True:\n",
    "            chunk = file.read(num_chars)\n",
    "            if chunk:\n",
    "                yield chunk\n",
    "            else:\n",
    "                return"
   ]
  },
  {
   "cell_type": "markdown",
   "metadata": {
    "deletable": true,
    "editable": true
   },
   "source": [
    "# Set Program Constants"
   ]
  },
  {
   "cell_type": "code",
   "execution_count": 3,
   "metadata": {
    "collapsed": true,
    "deletable": true,
    "editable": true
   },
   "outputs": [],
   "source": [
    "# Input/Output files\n",
    "input_path   = 'wikitext-103-raw/wiki.train.raw'\n",
    "output_path  = 'wikitext-103-raw/wiki.train.clean'\n",
    "\n",
    "# How many characters per line; For output file.\n",
    "# We read a large chunk of sentences from file, chunk should be as large as\n",
    "# possible. Too small and we waste time doing IO, too large and we waste time\n",
    "# writing page files.\n",
    "cleaning_chunks = 100000"
   ]
  },
  {
   "cell_type": "markdown",
   "metadata": {
    "deletable": true,
    "editable": true
   },
   "source": [
    "# Only include printable letters"
   ]
  },
  {
   "cell_type": "code",
   "execution_count": 4,
   "metadata": {
    "collapsed": false,
    "deletable": true,
    "editable": true
   },
   "outputs": [
    {
     "name": "stdout",
     "output_type": "stream",
     "text": [
      "Dimension of possible letters:  95 \n",
      "\n",
      "{'b', 'h', '%', 'G', 'W', 'p', 'f', '-', 'c', ';', 's', '[', 't', 'e', ',', '4', 'E', 'D', 'K', '`', 'A', 'l', 'H', '/', '8', 'Z', 'T', '2', 'r', 'N', ':', '=', '(', '\\\\', 'Q', '.', \"'\", 'B', 'I', '>', '0', ' ', ')', 'o', '^', 'S', 'u', 'F', '1', '6', 'q', '#', 'U', 'R', '~', '?', '}', '|', '\\n', ']', 'P', '+', '_', '<', 'C', 'w', 'M', '{', 'J', '7', '\"', '$', 'k', 'm', 'j', 'X', 'v', 'i', 'O', 'z', '9', 'n', 'y', '&', 'g', 'x', '*', 'a', '!', 'Y', 'L', 'd', '3', 'V', '5'}\n"
     ]
    }
   ],
   "source": [
    "valid_letters = set(string.printable)\n",
    "ignore_letters = set(['\\r','@','\\x0c','\\t','\\x0b'])\n",
    "valid_letters.difference_update(ignore_letters)\n",
    "print(\"Dimension of possible letters: \", len(valid_letters),'\\n')\n",
    "print(valid_letters)"
   ]
  },
  {
   "cell_type": "code",
   "execution_count": 5,
   "metadata": {
    "collapsed": true,
    "deletable": true,
    "editable": true
   },
   "outputs": [],
   "source": [
    "# Enocder maps a letter -> integer\n",
    "encoder = dict((letter,position) for position, letter in enumerate(valid_letters))"
   ]
  },
  {
   "cell_type": "markdown",
   "metadata": {
    "deletable": true,
    "editable": true
   },
   "source": [
    "# Convert Input by chunks"
   ]
  },
  {
   "cell_type": "code",
   "execution_count": 6,
   "metadata": {
    "collapsed": false,
    "deletable": true,
    "editable": true
   },
   "outputs": [
    {
     "name": "stdout",
     "output_type": "stream",
     "text": [
      "500\n",
      "1000\n",
      "1500\n",
      "2000\n",
      "2500\n",
      "3000\n",
      "3500\n",
      "4000\n",
      "4500\n",
      "5000\n",
      "finished removing unneeded characters\n"
     ]
    }
   ],
   "source": [
    "# Get iterator over file\n",
    "file_iter = fileIter(input_path, encoding='utf8',valid_letters=valid_letters, num_chars=cleaning_chunks)\n",
    "out = open(output_path,'w')\n",
    "\n",
    "i = 1\n",
    "ckpt = 500\n",
    "\n",
    "# Write data csv formatted\n",
    "for chunk in file_iter:\n",
    "    # Map letters to integers\n",
    "    chunk = list(filter(lambda x: x in valid_letters, chunk))\n",
    "    out.write(\"\".join(chunk))\n",
    "    if i % ckpt == 0:\n",
    "        print(i)\n",
    "    i += 1\n",
    "    \n",
    "print(\"finished removing unneeded characters\")\n",
    "out.close()    "
   ]
  },
  {
   "cell_type": "code",
   "execution_count": null,
   "metadata": {
    "collapsed": true
   },
   "outputs": [],
   "source": []
  }
 ],
 "metadata": {
  "kernelspec": {
   "display_name": "Python 3",
   "language": "python",
   "name": "python3"
  },
  "language_info": {
   "codemirror_mode": {
    "name": "ipython",
    "version": 3
   },
   "file_extension": ".py",
   "mimetype": "text/x-python",
   "name": "python",
   "nbconvert_exporter": "python",
   "pygments_lexer": "ipython3",
   "version": "3.5.2"
  }
 },
 "nbformat": 4,
 "nbformat_minor": 2
}
