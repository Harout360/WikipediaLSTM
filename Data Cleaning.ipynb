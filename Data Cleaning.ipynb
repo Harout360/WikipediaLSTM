{
 "cells": [
  {
   "cell_type": "markdown",
   "metadata": {},
   "source": [
    "# Imports"
   ]
  },
  {
   "cell_type": "code",
   "execution_count": 1,
   "metadata": {
    "collapsed": true
   },
   "outputs": [],
   "source": [
    "import string\n",
    "import numpy as np"
   ]
  },
  {
   "cell_type": "markdown",
   "metadata": {},
   "source": [
    "# Description\n",
    "We are removing all chinese from the text file."
   ]
  },
  {
   "cell_type": "code",
   "execution_count": 2,
   "metadata": {
    "collapsed": false
   },
   "outputs": [
    {
     "name": "stdout",
     "output_type": "stream",
     "text": [
      " \n",
      " = Robert Boulter = \n",
      " \n",
      " Robert Boulter is an English film , television and theatre actor . He had a guest @-@ starring role on the television series The Bill in 2000 . This was followed by a starring role in the play Herons written by Simon Stephens , which was performed in 2001 at the Royal Court Theatre . He had a guest role in the television series Judge John Deed in 2002 . In 2004 Boulter landed a role as \" Craig \" in the episode \" Teddy 's Story \" of the television series The Long Firm ; he starred alongside actors Mark Strong and Derek Jacobi . He was cast in the 2005 theatre productions of the Philip Ridley play Mercury Fur , which was performed at the Drum Theatre in Plymouth and the Menier Chocolate Factory in London . He was directed by John Tiffany and starred alongside Ben Whishaw , Shane Zaza , Harry Kent , Fraser Ayres , Sophie Stanton and Dominic Hall . \n",
      " In 2006 , Boulter starred alongside Whishaw in the play Citizenship written by Mark Ravenhill . He appeared on a 20\n",
      "1288556\n"
     ]
    }
   ],
   "source": [
    "data_source = 'wikitext-103-raw/wiki.test.raw'\n",
    "data = open(data_source, encoding='utf8')\n",
    "text = data.read()\n",
    "data.close()\n",
    "print(text[:1000])\n",
    "print(len(text))"
   ]
  },
  {
   "cell_type": "markdown",
   "metadata": {},
   "source": [
    "# What to clean\n",
    "The data currently has too many non-english characters, lets get rid of it and only keep the good stuff!"
   ]
  },
  {
   "cell_type": "code",
   "execution_count": 3,
   "metadata": {
    "collapsed": false
   },
   "outputs": [
    {
     "name": "stdout",
     "output_type": "stream",
     "text": [
      "['\\n', ' ', '!', '\"', '#', '$', '%', '&', \"'\", '(', ')', '*', '+', ',', '-', '.', '/', '0', '1', '2', '3', '4', '5', '6', '7', '8', '9', ':', ';', '<', '=', '>', '?', '@', 'A', 'B', 'C', 'D', 'E', 'F', 'G', 'H', 'I', 'J', 'K', 'L', 'M', 'N', 'O', 'P', 'Q', 'R', 'S', 'T', 'U', 'V', 'W', 'X', 'Y', 'Z', '[', ']', '^', 'a', 'b', 'c', 'd', 'e', 'f', 'g', 'h', 'i', 'j', 'k', 'l', 'm', 'n', 'o', 'p', 'q', 'r', 's', 't', 'u', 'v', 'w', 'x', 'y', 'z', '£', '¥', '©', '°', '½', 'Á', 'Æ', 'É', '×', 'ß', 'à', 'á', 'ã', 'ä', 'å', 'æ', 'ç', 'è', 'é', 'ê', 'ë', 'í', 'î', 'ñ', 'ó', 'ô', 'ö', 'ú', 'ü', 'ć', 'č', 'ě', 'ī', 'ł', 'Ō', 'ō', 'Š', 'ū', 'ž', 'ǐ', 'ǔ', 'ǜ', 'ə', 'ɛ', 'ɪ', 'ʊ', 'ˈ', 'ː', '̍', '͘', 'Π', 'Ω', 'έ', 'α', 'β', 'δ', 'ε', 'ι', 'λ', 'μ', 'ν', 'ο', 'π', 'ς', 'σ', 'τ', 'υ', 'ω', 'ό', 'П', 'в', 'д', 'и', 'к', 'н', 'א', 'ב', 'י', 'ל', 'ר', 'ש', 'ת', 'ا', 'ت', 'د', 'س', 'ك', 'ل', 'و', 'ڠ', 'ग', 'न', 'र', 'ल', 'ष', 'ु', 'े', 'ो', '्', 'ả', 'ẩ', '‑', '–', '—', '’', '“', '”', '†', '‡', '…', '⁄', '₩', '₱', '→', '−', '♯', 'の', 'ア', 'イ', 'ク', 'グ', 'ジ', 'ダ', 'ッ', 'ド', 'ナ', 'ブ', 'ラ', 'ル', '中', '为', '伊', '傳', '八', '利', '前', '勢', '史', '型', '士', '大', '学', '宝', '开', '律', '成', '戦', '春', '智', '望', '杜', '東', '民', '王', '甫', '田', '甲', '秘', '聖', '艦', '處', '衛', '解', '詩', '贈', '邵', '都', '鉄', '集', '魯']\n"
     ]
    }
   ],
   "source": [
    "letters = sorted(list(set(text)))\n",
    "print(letters)"
   ]
  },
  {
   "cell_type": "markdown",
   "metadata": {},
   "source": [
    "# What can my console print?"
   ]
  },
  {
   "cell_type": "code",
   "execution_count": 4,
   "metadata": {
    "collapsed": false
   },
   "outputs": [
    {
     "name": "stdout",
     "output_type": "stream",
     "text": [
      "['\\n', ' ', '!', '\"', '$', '%', '&', \"'\", '(', ')', '+', ',', '-', '.', '0', '1', '2', '3', '4', '5', '6', '7', '8', '9', ':', ';', '<', '=', '>', '?', 'A', 'B', 'C', 'D', 'E', 'F', 'G', 'H', 'I', 'J', 'K', 'L', 'M', 'N', 'O', 'P', 'Q', 'R', 'S', 'T', 'U', 'V', 'W', 'X', 'Y', 'Z', 'a', 'b', 'c', 'd', 'e', 'f', 'g', 'h', 'i', 'j', 'k', 'l', 'm', 'n', 'o', 'p', 'q', 'r', 's', 't', 'u', 'v', 'w', 'x', 'y', 'z']\n"
     ]
    }
   ],
   "source": [
    "validLetters = list(string.printable)\n",
    "# Potential risks\n",
    "invalidExtra = [\"\\x0b\",'\\x0c','@','#','*','^','/','[',']']\n",
    "for invalid in invalidExtra:\n",
    "    validLetters.remove(invalid)\n",
    "\n",
    "letters = list(filter(lambda x: x in validLetters, letters))\n",
    "print(letters)\n",
    "validLetters = letters\n",
    "\n",
    "text = list(filter(lambda x: x in validLetters, text))"
   ]
  },
  {
   "cell_type": "markdown",
   "metadata": {},
   "source": [
    "# Convert to ordinal values"
   ]
  },
  {
   "cell_type": "code",
   "execution_count": 5,
   "metadata": {
    "collapsed": false
   },
   "outputs": [
    {
     "name": "stdout",
     "output_type": "stream",
     "text": [
      "['\\n', ' ', '!', '\"', '$', '%', '&', \"'\", '(', ')', '+', ',', '-', '.', '0', '1', '2', '3', '4', '5', '6', '7', '8', '9', ':', ';', '<', '=', '>', '?', 'A', 'B', 'C', 'D', 'E', 'F', 'G', 'H', 'I', 'J', 'K', 'L', 'M', 'N', 'O', 'P', 'Q', 'R', 'S', 'T', 'U', 'V', 'W', 'X', 'Y', 'Z', 'a', 'b', 'c', 'd', 'e', 'f', 'g', 'h', 'i', 'j', 'k', 'l', 'm', 'n', 'o', 'p', 'q', 'r', 's', 't', 'u', 'v', 'w', 'x', 'y', 'z']\n",
      "\n",
      "\n",
      "[1, 0, 1, 27, 1, 47, 70, 57, 60, 73, 75, 1, 31, 70, 76, 67, 75, 60, 73, 1, 27, 1, 0, 1, 0, 1, 47, 70, 57, 60, 73, 75, 1, 31, 70, 76, 67, 75, 60, 73, 1, 64, 74, 1, 56, 69, 1, 34, 69, 62, 67, 64, 74, 63, 1, 61, 64, 67, 68, 1, 11, 1, 75, 60, 67, 60, 77, 64, 74, 64, 70, 69, 1, 56, 69, 59, 1, 75, 63, 60, 56, 75, 73, 60, 1, 56, 58, 75, 70, 73, 1, 13, 1, 37, 60, 1, 63, 56, 59, 1]\n",
      "\n",
      "\n",
      "{'J': 39, 'w': 78, '5': 19, 'd': 59, 'Z': 55, \"'\": 7, ')': 9, 'K': 40, 'l': 67, 'k': 66, '(': 8, '?': 29, ',': 11, 'z': 81, '6': 20, 'g': 62, 'p': 71, 'E': 34, 'i': 64, '-': 12, 'C': 32, 'h': 63, '3': 17, '\\n': 0, '>': 28, 'y': 80, 'Y': 54, 'W': 52, 'u': 76, 'Q': 46, 'x': 79, 'L': 41, 'R': 47, '1': 15, 's': 74, 'D': 33, 'P': 45, 'S': 48, '.': 13, ';': 25, '%': 5, 'n': 69, '+': 10, '2': 16, 'f': 61, '8': 22, '9': 23, 'a': 56, 'T': 49, 'F': 35, ':': 24, '!': 2, '&': 6, 'U': 50, '$': 4, 'I': 38, 'N': 43, 'm': 68, 'c': 58, '\"': 3, '<': 26, 'V': 51, 'e': 60, 'G': 36, 'j': 65, 'A': 30, ' ': 1, 'b': 57, 'v': 77, '4': 18, 'o': 70, 'B': 31, 'O': 44, '7': 21, 'X': 53, 'r': 73, 'q': 72, 'M': 42, 'H': 37, 't': 75, '0': 14, '=': 27}\n"
     ]
    }
   ],
   "source": [
    "print(validLetters)\n",
    "print('\\n')\n",
    "\n",
    "encoder = dict((letter,position) for position, letter in enumerate(validLetters))\n",
    "decoder = dict((value,key) for key,value in encoder.items())\n",
    "\n",
    "text = [encoder[letter] for letter in text]\n",
    "print(text[:100])\n",
    "print('\\n')\n",
    "print(encoder)"
   ]
  },
  {
   "cell_type": "markdown",
   "metadata": {},
   "source": [
    "# Save to file"
   ]
  },
  {
   "cell_type": "code",
   "execution_count": 6,
   "metadata": {
    "collapsed": false
   },
   "outputs": [
    {
     "name": "stdout",
     "output_type": "stream",
     "text": [
      "100000\n",
      "200000\n",
      "300000\n",
      "400000\n",
      "500000\n",
      "600000\n",
      "700000\n",
      "800000\n",
      "900000\n",
      "1000000\n",
      "1100000\n",
      "1200000\n"
     ]
    }
   ],
   "source": [
    "onehot = np.eye(len(validLetters), dtype=\"int8\")\n",
    "\n",
    "onehotted = [onehot[letter] for letter in text]\n",
    "output = open('wikitext-103-raw/wiki.test.onehot','w')\n",
    "onehotfile  = list()\n",
    "i = 0\n",
    "MAX = 500000\n",
    "for onehotness in onehotted:\n",
    "    for num in onehotness:\n",
    "        onehotfile.append(str(num))\n",
    "    i += 1\n",
    "    onehotfile.append('\\n')\n",
    "    if(i > MAX):\n",
    "        output.write(\"\".join(onehotfile))\n",
    "        onehotfile.clear()\n",
    "    if(i % 100000 == 0):\n",
    "        print(i)\n",
    "output.flush()\n",
    "output.close()"
   ]
  }
 ],
 "metadata": {
  "kernelspec": {
   "display_name": "Python 3",
   "language": "python",
   "name": "python3"
  },
  "language_info": {
   "codemirror_mode": {
    "name": "ipython",
    "version": 3
   },
   "file_extension": ".py",
   "mimetype": "text/x-python",
   "name": "python",
   "nbconvert_exporter": "python",
   "pygments_lexer": "ipython3",
   "version": "3.5.2"
  }
 },
 "nbformat": 4,
 "nbformat_minor": 1
}
